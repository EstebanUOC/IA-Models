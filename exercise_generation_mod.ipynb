{
  "cells": [
    {
      "cell_type": "markdown",
      "metadata": {
        "id": "view-in-github",
        "colab_type": "text"
      },
      "source": [
        "<a href=\"https://colab.research.google.com/github/EstebanUOC/IA-Models/blob/main/exercise_generation_mod.ipynb\" target=\"_parent\"><img src=\"https://colab.research.google.com/assets/colab-badge.svg\" alt=\"Open In Colab\"/></a>"
      ]
    },
    {
      "cell_type": "code",
      "execution_count": 1,
      "metadata": {
        "id": "qQxEMS9vyzF-"
      },
      "outputs": [],
      "source": [
        "import numpy as np\n",
        "import pandas as pd\n",
        "import pathlib\n",
        "import random\n",
        "from collections import defaultdict\n",
        "import json"
      ]
    },
    {
      "cell_type": "code",
      "execution_count": 2,
      "metadata": {
        "id": "0JfwgyX2yzF_"
      },
      "outputs": [],
      "source": [
        "np.random.seed(1)"
      ]
    },
    {
      "cell_type": "code",
      "execution_count": 3,
      "metadata": {
        "id": "cTSKdNp8yzGA"
      },
      "outputs": [],
      "source": [
        "verbose = True"
      ]
    },
    {
      "cell_type": "code",
      "execution_count": 4,
      "metadata": {
        "id": "9aWwNY2QyzGA"
      },
      "outputs": [],
      "source": [
        "n_combinations_per_word = 2"
      ]
    },
    {
      "cell_type": "code",
      "execution_count": 5,
      "metadata": {
        "id": "A6LjeSmdyzGA"
      },
      "outputs": [],
      "source": [
        "basepath = \"../../data/\""
      ]
    },
    {
      "cell_type": "code",
      "execution_count": 6,
      "metadata": {
        "id": "w5uVbu77yzGA"
      },
      "outputs": [],
      "source": [
        "basepath = pathlib.Path(basepath)"
      ]
    },
    {
      "cell_type": "code",
      "execution_count": 7,
      "metadata": {
        "id": "wblWEIXqyzGA"
      },
      "outputs": [],
      "source": [
        "syllable_type = \"Directa\""
      ]
    },
    {
      "cell_type": "code",
      "execution_count": 8,
      "metadata": {
        "id": "T9R2vIYQyzGB"
      },
      "outputs": [],
      "source": [
        "if syllable_type == \"Directa\":\n",
        "    syllable_type_char = \"D\"\n",
        "elif syllable_type == \"Inversa\":\n",
        "    syllable_type_char = \"I\"\n",
        "elif syllable_type == \"Travada\":\n",
        "    syllable_type_char = \"B\"\n",
        "else:\n",
        "    print(f\"Invalid syllable_type. Accepted 'Directa', 'Inversa', 'Travada'. Received '{syllable_type}'\")\n",
        "    raise ValueError"
      ]
    },
    {
      "cell_type": "code",
      "execution_count": 9,
      "metadata": {
        "id": "el9bg_nryzGB"
      },
      "outputs": [],
      "source": [
        "sounds = [\n",
        "    \"Nasal sonora M\",\n",
        "    \"Fricativa sorda F\",\n",
        "    \"Nasal sonora N\",\n",
        "    \"Lateral sonora L\",\n",
        "    \"Vibrant sonora R (r, rr)\",\n",
        "    \"Bategant sonora R\",\n",
        "    \"Lateral sonora LL\",\n",
        "    \"Nasal sonora NY\",\n",
        "    \"Fricatiu sord (s, ss, c, ç)\",\n",
        "    \"Fricatives sonores (z, s)\",\n",
        "    \"Fricativa sonora ʒ (J, G)\",\n",
        "    \"Fricativa sorda ʃ (x)\",\n",
        "    \"Africada sonora dʒ (tg, tj)\",\n",
        "    \"Africada sonora dz (tz, zz)\",\n",
        "    \"Africada sorda tʃ (tx, ig)\",\n",
        "    \"Oclusiva sonora B (b, v)\",\n",
        "    \"Oclusiva sorda P\",\n",
        "    \"Oclusiva sonora D\",\n",
        "    \"Oclusiva sorda T\",\n",
        "    \"Oclusiva sonora G\",\n",
        "    \"Oclusiva sorda K (c,qu,k)\",\n",
        "]"
      ]
    },
    {
      "cell_type": "code",
      "execution_count": 10,
      "metadata": {
        "id": "vEaI3zVkyzGB"
      },
      "outputs": [],
      "source": [
        "def remove_accents(word):\n",
        "    word = word.replace(\"à\", \"a\")\n",
        "    word = word.replace(\"è\", \"e\")\n",
        "    word = word.replace(\"é\", \"e\")\n",
        "    word = word.replace(\"í\", \"i\")\n",
        "    word = word.replace(\"ï\", \"i\")\n",
        "    word = word.replace(\"ò\", \"o\")\n",
        "    word = word.replace(\"ó\", \"o\")\n",
        "    word = word.replace(\"ú\", \"u\")\n",
        "    word = word.replace(\"ü\", \"u\")\n",
        "\n",
        "    return word"
      ]
    },
    {
      "cell_type": "code",
      "execution_count": null,
      "metadata": {
        "id": "mNtpSK_UyzGB"
      },
      "outputs": [],
      "source": [
        "def extract_words_by_sound_syllable_position_and_count(sound: str, syllable_position: str, syllable_count: int):\n",
        "    if syllable_position == \"Inici\":\n",
        "        key_syllable_position = 0\n",
        "    elif syllable_position == \"Meitat\":\n",
        "        key_syllable_position = 1\n",
        "    elif syllable_position == \"Final\":\n",
        "        key_syllable_position = -1\n",
        "    else:\n",
        "        print(f\"Invalid syllable_position. Accepted 'Inici', 'Meitat', 'Final'. Received '{syllable_position}'\")\n",
        "        return None\n",
        "\n",
        "    if syllable_type == \"Directa\":\n",
        "        syllable_type_suffix = \"Dir\"\n",
        "    elif syllable_type == \"Inversa\":\n",
        "        syllable_type_suffix = \"Inv\"\n",
        "    elif syllable_type == \"Travada\":\n",
        "        syllable_type_suffix = \"Tra\"\n",
        "    else:\n",
        "        print(f\"Invalid syllable_type. Accepted 'Directa', 'Inversa', 'Travada'. Received '{syllable_type}'\")\n",
        "        return None\n",
        "\n",
        "    if verbose:\n",
        "        print(f\"Reading words for sound {sound}, syllable_position {syllable_position} and syllable count {syllable_count}\")\n",
        "\n",
        "    words_df = pd.read_excel(basepath / \"paraules_picofon.xlsx\", sheet_name=sound, header=1)\n",
        "    words_df.columns = [c.strip() for c in words_df.columns]\n",
        "\n",
        "    words_syllables = defaultdict(set)\n",
        "    try:\n",
        "        words_df = words_df.loc[:, f\"{syllable_position} {syllable_count}S{syllable_type_suffix}\"]\n",
        "        words = words_df.dropna().to_list()\n",
        "\n",
        "        for w in words:\n",
        "            w = w.split(\"/\")[0].strip()\n",
        "            w = w.split(\"(\")[0].strip()\n",
        "            w_syllables = w.split(\"#\")\n",
        "            if len(w_syllables) != syllable_count:\n",
        "                continue\n",
        "\n",
        "            key_syllable = w_syllables[key_syllable_position]\n",
        "            key_syllable = remove_accents(key_syllable)\n",
        "            words_syllables[key_syllable].add(w)\n",
        "\n",
        "        for syllable, words in words_syllables.items():\n",
        "            words_syllables[syllable] = list(words)\n",
        "\n",
        "        n_words = sum([len(words) for words in words_syllables.values()])\n",
        "\n",
        "        if verbose:\n",
        "            print(f\"Found {n_words} valid words four sound {sound} in position {syllable_position}, with type {syllable_type} and with {syllable_count} syllables\")\n",
        "    except KeyError:\n",
        "        if verbose:\n",
        "            print(f\"No words four sound {sound} in position {syllable_position}, with type {syllable_type} and with {syllable_count} syllables\")\n",
        "\n",
        "    return words_syllables"
      ]
    },
    {
      "cell_type": "code",
      "execution_count": null,
      "metadata": {
        "id": "K3kATwpnyzGC"
      },
      "outputs": [],
      "source": [
        "def extract_words():\n",
        "    all_words = {}\n",
        "    for sound in sounds:\n",
        "        all_words[sound] = {}\n",
        "        for syllable_position in [\"Inici\", \"Meitat\", \"Final\"]:\n",
        "            all_words[sound][syllable_position] = {}\n",
        "            for syllable_count in range(1, 6):\n",
        "                all_words[sound][syllable_position][syllable_count] = extract_words_by_sound_syllable_position_and_count(sound, syllable_position, syllable_count)\n",
        "\n",
        "    return all_words"
      ]
    },
    {
      "cell_type": "code",
      "execution_count": null,
      "metadata": {
        "id": "-Xd3LTnWyzGC"
      },
      "outputs": [],
      "source": [
        "all_words = extract_words()"
      ]
    },
    {
      "cell_type": "code",
      "execution_count": null,
      "metadata": {
        "id": "Ij6ho9snyzGC"
      },
      "outputs": [],
      "source": [
        "all_words_list = []\n",
        "for syllable_position in [\"Inici\", \"Meitat\", \"Final\"]:\n",
        "    for syllable_count in range(1, 6):\n",
        "        for sound in sounds:\n",
        "            for syllable, words in all_words[sound][syllable_position][syllable_count].items():\n",
        "                all_words_list += [remove_accents(w.replace(\"#\", \"\")) for w in words]\n",
        "\n",
        "all_words_set = set(all_words_list)"
      ]
    },
    {
      "cell_type": "code",
      "execution_count": null,
      "metadata": {
        "id": "Mg3OP-fxyzGC"
      },
      "outputs": [],
      "source": [
        "if verbose:\n",
        "    print(f\"Number of words: {len(all_words)}\")\n",
        "    print(all_words)"
      ]
    },
    {
      "cell_type": "code",
      "execution_count": null,
      "metadata": {
        "id": "PR55BfguyzGC"
      },
      "outputs": [],
      "source": [
        "exercise_id = 0\n",
        "def generate_exercise_id():\n",
        "    global exercise_id\n",
        "    exercise_id += 10\n",
        "    return exercise_id"
      ]
    },
    {
      "cell_type": "code",
      "execution_count": null,
      "metadata": {
        "id": "tZN7f1VJyzGC"
      },
      "outputs": [],
      "source": [
        "def compute_initial_exercise_id(base_initial_exercise_id):\n",
        "    if syllable_type == \"Directa\":\n",
        "        return base_initial_exercise_id\n",
        "\n",
        "    if syllable_type == \"Inversa\":\n",
        "        return base_initial_exercise_id + 100_000_000\n",
        "\n",
        "    if syllable_type == \"Travada\":\n",
        "        return base_initial_exercise_id + 200_000_000"
      ]
    },
    {
      "cell_type": "code",
      "execution_count": null,
      "metadata": {
        "id": "RPS1zfEPyzGD"
      },
      "outputs": [],
      "source": [
        "def find_repeated_exercise(exercise, exercises, keys_to_compare):\n",
        "    for ex in exercises:\n",
        "        equal_exercise = True\n",
        "        for key in keys_to_compare:\n",
        "            if ex[key] != exercise[key]:\n",
        "                equal_exercise = False\n",
        "                break\n",
        "\n",
        "        if equal_exercise:\n",
        "            return True\n",
        "\n",
        "    return False"
      ]
    },
    {
      "cell_type": "code",
      "execution_count": null,
      "metadata": {
        "id": "Yic3JLNvyzGD"
      },
      "outputs": [],
      "source": [
        "def select_random_word(sounds_to_avoid, syllable_position, syllable_count, main_word, force_similarity=False):\n",
        "    n_tries = 0\n",
        "    while n_tries < 30:\n",
        "        n_tries += 1\n",
        "        try:\n",
        "            selected_sound = np.random.choice([s for s in sounds if s not in sounds_to_avoid], size=1)[0]\n",
        "            selected_syllable = np.random.choice(list(all_words[selected_sound][syllable_position][syllable_count].keys()), size=1)[0]\n",
        "            selected_word = np.random.choice(all_words[selected_sound][syllable_position][syllable_count][selected_syllable], size=1)[0]\n",
        "\n",
        "            if force_similarity:\n",
        "                main_word_syllables = main_word.split(\"#\")\n",
        "                selected_word_syllables = selected_word.split(\"#\")\n",
        "                equal_syllables = 0\n",
        "                for i in range(syllable_count):\n",
        "                    if main_word_syllables[i] == selected_word_syllables[i]:\n",
        "                        equal_syllables += 1\n",
        "\n",
        "                if n_tries < 10:\n",
        "                    if equal_syllables < syllable_count - 1:\n",
        "                        continue\n",
        "\n",
        "                if n_tries < 20:\n",
        "                    if equal_syllables < syllable_count - 2:\n",
        "                        continue\n",
        "\n",
        "            return selected_word\n",
        "        except ValueError:\n",
        "            pass\n",
        "\n",
        "    return None"
      ]
    },
    {
      "cell_type": "markdown",
      "metadata": {
        "id": "iEIEx4E_yzGD"
      },
      "source": [
        "## Identificar síl·labes"
      ]
    },
    {
      "cell_type": "markdown",
      "metadata": {
        "id": "Y6FIQVCWyzGE"
      },
      "source": [
        "### Jutjar"
      ]
    },
    {
      "cell_type": "code",
      "execution_count": null,
      "metadata": {
        "id": "zs2mAdMTyzGE"
      },
      "outputs": [],
      "source": [
        "def identificar_jutjar(syllable_position, syllable_count):\n",
        "    if syllable_position == \"Inici\":\n",
        "        skill = \"ISI\"\n",
        "    elif syllable_position == \"Meitat\":\n",
        "        skill = \"ISM\"\n",
        "    elif syllable_position == \"Final\":\n",
        "        skill = \"ISF\"\n",
        "\n",
        "    exercises = []\n",
        "    for sound in sounds:\n",
        "        for syllable, words in all_words[sound][syllable_position][syllable_count].items():\n",
        "            if len(words) == 1:\n",
        "                continue\n",
        "\n",
        "            for word in words:\n",
        "                n_combinations = 0\n",
        "                n_tries = 0\n",
        "                while n_combinations < n_combinations_per_word and n_tries < 2*n_combinations_per_word:\n",
        "                    n_tries += 1\n",
        "\n",
        "                    exercise_si = {}\n",
        "                    exercise_si[\"response\"] = \"yes\"\n",
        "                    exercise_si[\"language\"] = \"CA\"\n",
        "                    exercise_si[\"unit\"] = \"SY\"\n",
        "                    exercise_si[\"skill\"] = skill\n",
        "                    exercise_si[\"game_mechanic\"] = \"J\"\n",
        "                    exercise_si[\"syllables_number\"] = syllable_count\n",
        "                    exercise_si[\"syllable_structure\"] = syllable_type_char\n",
        "                    exercise_si[\"sound\"] = sound\n",
        "                    selected_word = np.random.choice([w for w in words if w != word], size=1)[0]\n",
        "                    exercise_si[\"main_word\"] = word.replace(\"#\", \"\")\n",
        "                    exercise_si[\"option1\"] = selected_word.replace(\"#\", \"\")\n",
        "\n",
        "                    exercise_no = {}\n",
        "                    exercise_no[\"response\"] = \"no\"\n",
        "                    exercise_no[\"language\"] = \"CA\"\n",
        "                    exercise_no[\"unit\"] = \"SY\"\n",
        "                    exercise_no[\"skill\"] = skill\n",
        "                    exercise_no[\"game_mechanic\"] = \"J\"\n",
        "                    exercise_no[\"syllables_number\"] = syllable_count\n",
        "                    exercise_no[\"syllable_structure\"] = syllable_type_char\n",
        "                    exercise_no[\"sound\"] = sound\n",
        "                    selected_word = select_random_word([sound], syllable_position, syllable_count, word, force_similarity=True)\n",
        "                    if selected_word is None:\n",
        "                        continue\n",
        "                    exercise_no[\"main_word\"] = word.replace(\"#\", \"\")\n",
        "                    exercise_no[\"option1\"] = selected_word.replace(\"#\", \"\")\n",
        "\n",
        "                    if not find_repeated_exercise(exercise_si, exercises, keys_to_compare=[\"main_word\", \"option1\"]) and not find_repeated_exercise(exercise_no, exercises, keys_to_compare=[\"main_word\", \"option1\"]):\n",
        "                        exercise_si[\"id\"] = generate_exercise_id()\n",
        "                        exercises.append(exercise_si)\n",
        "\n",
        "                        exercise_no[\"id\"] = generate_exercise_id()\n",
        "                        exercises.append(exercise_no)\n",
        "\n",
        "                        n_combinations += 1\n",
        "\n",
        "    return exercises"
      ]
    },
    {
      "cell_type": "code",
      "execution_count": null,
      "metadata": {
        "id": "YX6ILsEcyzGE"
      },
      "outputs": [],
      "source": [
        "exercise_id = compute_initial_exercise_id(101_000_000)\n",
        "for syllable_position in [\"Inici\", \"Meitat\", \"Final\"]:\n",
        "    for syllable_count in range(1, 6):\n",
        "        exercicis_identificar_jutjar = identificar_jutjar(syllable_position, syllable_count)\n",
        "        if exercicis_identificar_jutjar:\n",
        "            print(f\"Number of exercises for position {syllable_position} and syllable count {syllable_count}: {len(exercicis_identificar_jutjar)}\")\n",
        "\n",
        "            with open(basepath / f\"identificar_jutjar_{syllable_position}_{syllable_type}_{syllable_count}s.json\", \"w\", encoding=\"utf-8\") as f:\n",
        "                json.dump(exercicis_identificar_jutjar, f, ensure_ascii=False, indent=2, sort_keys=True)"
      ]
    },
    {
      "cell_type": "markdown",
      "metadata": {
        "id": "zOuiGnsVyzGE"
      },
      "source": [
        "### Seleccionar la que no encaixa"
      ]
    },
    {
      "cell_type": "code",
      "execution_count": null,
      "metadata": {
        "id": "sGD4LSxxyzGE"
      },
      "outputs": [],
      "source": [
        "def identificar_seleccionar(syllable_position, syllable_count):\n",
        "    if syllable_position == \"Inici\":\n",
        "        skill = \"ISI\"\n",
        "    elif syllable_position == \"Meitat\":\n",
        "        skill = \"ISM\"\n",
        "    elif syllable_position == \"Final\":\n",
        "        skill = \"ISF\"\n",
        "\n",
        "    exercises = []\n",
        "    for sound in sounds:\n",
        "        for syllable, words in all_words[sound][syllable_position][syllable_count].items():\n",
        "            if len(words) < 4:\n",
        "                continue\n",
        "\n",
        "            for word in words:\n",
        "                n_combinations = 0\n",
        "                n_tries = 0\n",
        "                while n_combinations < n_combinations_per_word and n_tries < 2*n_combinations_per_word:\n",
        "                    n_tries += 1\n",
        "\n",
        "                    exercise = {}\n",
        "                    selected_words = list(np.random.choice([w.replace(\"#\", \"\") for w in words if w != word], size=2, replace=False))\n",
        "                    wrong_word = select_random_word([sound], syllable_position, syllable_count, word)\n",
        "                    if wrong_word is None:\n",
        "                        continue\n",
        "\n",
        "                    exercise_words = [word.replace(\"#\", \"\"), wrong_word.replace(\"#\", \"\")] + selected_words\n",
        "                    random.shuffle(exercise_words)\n",
        "\n",
        "                    exercise[\"main_word\"] = word.replace(\"#\", \"\")\n",
        "                    exercise[\"option1\"] = exercise_words[0]\n",
        "                    exercise[\"option2\"] = exercise_words[1]\n",
        "                    exercise[\"option3\"] = exercise_words[2]\n",
        "                    exercise[\"option4\"] = exercise_words[3]\n",
        "                    exercise[\"response\"] = wrong_word.replace(\"#\", \"\")\n",
        "                    exercise[\"language\"] = \"CA\"\n",
        "                    exercise[\"unit\"] = \"SY\"\n",
        "                    exercise[\"skill\"] = skill\n",
        "                    exercise[\"game_mechanic\"] = \"S\"\n",
        "                    exercise[\"syllables_number\"] = syllable_count\n",
        "                    exercise[\"syllable_structure\"] = syllable_type_char\n",
        "                    exercise[\"sound\"] = sound\n",
        "\n",
        "                    if not find_repeated_exercise(exercise, exercises, keys_to_compare=[\"main_word\", \"option1\", \"option2\", \"option3\", \"option4\"]):\n",
        "                        exercise[\"id\"] = generate_exercise_id()\n",
        "                        exercises.append(exercise)\n",
        "\n",
        "                        n_combinations += 1\n",
        "\n",
        "    return exercises"
      ]
    },
    {
      "cell_type": "code",
      "execution_count": null,
      "metadata": {
        "id": "b6qb2ICbyzGE"
      },
      "outputs": [],
      "source": [
        "exercise_id = compute_initial_exercise_id(102_000_000)\n",
        "for syllable_position in [\"Inici\", \"Meitat\", \"Final\"]:\n",
        "    for syllable_count in range(1, 6):\n",
        "        exercicis_identificar_seleccionar = identificar_seleccionar(syllable_position, syllable_count)\n",
        "        if exercicis_identificar_seleccionar:\n",
        "            print(f\"Number of exercises for position {syllable_position} and syllable count {syllable_count}: {len(exercicis_identificar_seleccionar)}\")\n",
        "\n",
        "            with open(basepath / f\"identificar_seleccionar_{syllable_position}_{syllable_type}_{syllable_count}s.json\", \"w\", encoding=\"utf-8\") as f:\n",
        "                json.dump(exercicis_identificar_seleccionar, f, ensure_ascii=False, indent=2, sort_keys=True)"
      ]
    },
    {
      "cell_type": "markdown",
      "metadata": {
        "id": "5k3mWltLyzGF"
      },
      "source": [
        "### Relacionar"
      ]
    },
    {
      "cell_type": "code",
      "execution_count": null,
      "metadata": {
        "id": "_VjO7FcfyzGF"
      },
      "outputs": [],
      "source": [
        "def identificar_relacionar(syllable_position, syllable_count):\n",
        "    if syllable_position == \"Inici\":\n",
        "        skill = \"ISI\"\n",
        "    elif syllable_position == \"Meitat\":\n",
        "        skill = \"ISM\"\n",
        "    elif syllable_position == \"Final\":\n",
        "        skill = \"ISF\"\n",
        "\n",
        "    exercises = []\n",
        "    for sound in sounds:\n",
        "        for syllable, words in all_words[sound][syllable_position][syllable_count].items():\n",
        "            if len(words) == 1:\n",
        "                continue\n",
        "\n",
        "            for word in words:\n",
        "                n_combinations = 0\n",
        "                n_tries = 0\n",
        "                while n_combinations < n_combinations_per_word and n_tries < 2*n_combinations_per_word:\n",
        "                    n_tries += 1\n",
        "\n",
        "                    exercise = {}\n",
        "                    selected_word = np.random.choice([w for w in words if w != word], size=1)[0]\n",
        "\n",
        "                    wrong_word_1 = select_random_word([sound], syllable_position, syllable_count, word)\n",
        "                    wrong_word_2 = select_random_word([sound], syllable_position, syllable_count, word)\n",
        "                    wrong_word_3 = select_random_word([sound], syllable_position, syllable_count, word)\n",
        "\n",
        "                    if wrong_word_1 is None or wrong_word_2 is None or wrong_word_3 is None:\n",
        "                        continue\n",
        "\n",
        "                    exercise_words = [word.replace(\"#\", \"\"), selected_word.replace(\"#\", \"\"), wrong_word_1.replace(\"#\", \"\"), wrong_word_2.replace(\"#\", \"\"), wrong_word_3.replace(\"#\", \"\")]\n",
        "                    random.shuffle(exercise_words)\n",
        "\n",
        "                    exercise[\"main_word\"] = word.replace(\"#\", \"\")\n",
        "                    exercise[\"option1\"] = exercise_words[0]\n",
        "                    exercise[\"option2\"] = exercise_words[1]\n",
        "                    exercise[\"option3\"] = exercise_words[2]\n",
        "                    exercise[\"option4\"] = exercise_words[3]\n",
        "                    exercise[\"option5\"] = exercise_words[4]\n",
        "                    exercise[\"response\"] = selected_word.replace(\"#\", \"\")\n",
        "                    exercise[\"language\"] = \"CA\"\n",
        "                    exercise[\"unit\"] = \"SY\"\n",
        "                    exercise[\"skill\"] = skill\n",
        "                    exercise[\"game_mechanic\"] = \"R\"\n",
        "                    exercise[\"syllables_number\"] = syllable_count\n",
        "                    exercise[\"syllable_structure\"] = syllable_type_char\n",
        "                    exercise[\"sound\"] = sound\n",
        "\n",
        "                    if not find_repeated_exercise(exercise, exercises, keys_to_compare=[\"main_word\", \"option1\", \"option2\", \"option3\", \"option4\", \"option5\"]):\n",
        "                        exercise[\"id\"] = generate_exercise_id()\n",
        "                        exercises.append(exercise)\n",
        "\n",
        "                        n_combinations += 1\n",
        "\n",
        "    return exercises"
      ]
    },
    {
      "cell_type": "code",
      "execution_count": null,
      "metadata": {
        "id": "2ATo0W4YyzGF"
      },
      "outputs": [],
      "source": [
        "exercise_id = compute_initial_exercise_id(103_000_000)\n",
        "for syllable_position in [\"Inici\", \"Meitat\", \"Final\"]:\n",
        "    for syllable_count in range(1, 6):\n",
        "        exercicis_identificar_relacionar = identificar_relacionar(syllable_position, syllable_count)\n",
        "        if exercicis_identificar_relacionar:\n",
        "            print(f\"Number of exercises for position {syllable_position} and syllable count {syllable_count}: {len(exercicis_identificar_relacionar)}\")\n",
        "\n",
        "            with open(basepath / f\"identificar_relacionar_{syllable_position}_{syllable_type}_{syllable_count}s.json\", \"w\", encoding=\"utf-8\") as f:\n",
        "                json.dump(exercicis_identificar_relacionar, f, ensure_ascii=False, indent=2, sort_keys=True)"
      ]
    },
    {
      "cell_type": "markdown",
      "metadata": {
        "id": "ysp4wDu_yzGF"
      },
      "source": [
        "## Comptar síl·labes"
      ]
    },
    {
      "cell_type": "markdown",
      "metadata": {
        "id": "NE8Ju40jyzGF"
      },
      "source": [
        "### Jutjar"
      ]
    },
    {
      "cell_type": "code",
      "execution_count": null,
      "metadata": {
        "id": "6rtHubWWyzGF"
      },
      "outputs": [],
      "source": [
        "def comptar_jutjar(syllable_position, syllable_count):\n",
        "    exercises = []\n",
        "    for sound in sounds:\n",
        "        sound_words = []\n",
        "        for syllable, words in all_words[sound][syllable_position][syllable_count].items():\n",
        "            sound_words += words\n",
        "\n",
        "        if sound_words:\n",
        "            exercise = {}\n",
        "            exercise[\"words\"] = [word.replace(\"#\", \"\") for word in sound_words]\n",
        "            exercise[\"language\"] = \"CA\"\n",
        "            exercise[\"unit\"] = \"SY\"\n",
        "            exercise[\"skill\"] = \"SPS\"\n",
        "            exercise[\"game_mechanic\"] = \"J\"\n",
        "            exercise[\"syllables_number\"] = syllable_count\n",
        "            exercise[\"syllable_structure\"] = syllable_type_char\n",
        "            exercise[\"sound\"] = sound\n",
        "            exercise[\"id\"] = generate_exercise_id()\n",
        "            exercises.append(exercise)\n",
        "\n",
        "    return exercises"
      ]
    },
    {
      "cell_type": "code",
      "execution_count": null,
      "metadata": {
        "id": "9PI7pW-SyzGF"
      },
      "outputs": [],
      "source": [
        "exercise_id = compute_initial_exercise_id(104_000_000)\n",
        "for syllable_position in [\"Inici\", \"Meitat\", \"Final\"]:\n",
        "    for syllable_count in range(1, 6):\n",
        "        exercicis_comptar_jutjar = comptar_jutjar(syllable_position, syllable_count)\n",
        "        if exercicis_comptar_jutjar:\n",
        "            print(f\"Number of exercises for position {syllable_position} and syllable count {syllable_count}: {len(exercicis_comptar_jutjar)}\")\n",
        "\n",
        "            with open(basepath / f\"comptar_jutjar_{syllable_position}_{syllable_type}_{syllable_count}s.json\", \"w\", encoding=\"utf-8\") as f:\n",
        "                json.dump(exercicis_comptar_jutjar, f, ensure_ascii=False, indent=2, sort_keys=True)"
      ]
    },
    {
      "cell_type": "markdown",
      "metadata": {
        "id": "Lue0fgg7yzGF"
      },
      "source": [
        "## Combinar síl·labes"
      ]
    },
    {
      "cell_type": "markdown",
      "metadata": {
        "id": "9EPENCZRyzGF"
      },
      "source": [
        "### Jutjar"
      ]
    },
    {
      "cell_type": "code",
      "execution_count": null,
      "metadata": {
        "id": "ZBQheMFkyzGG"
      },
      "outputs": [],
      "source": [
        "def combinar_jutjar():\n",
        "    exercises = []\n",
        "    monosyllable_words = []\n",
        "    bisyllable_words = []\n",
        "    for sound in sounds:\n",
        "        for syllable, words in all_words[sound][\"Inici\"][1].items():\n",
        "            monosyllable_words += [remove_accents(w.replace(\"#\", \"\")) for w in words]\n",
        "\n",
        "        for syllable, words in all_words[sound][\"Inici\"][2].items():\n",
        "            bisyllable_words += [remove_accents(w.replace(\"#\", \"\")) for w in words]\n",
        "\n",
        "    for w1 in monosyllable_words:\n",
        "        for w2 in monosyllable_words:\n",
        "\n",
        "            if f\"{w1}{w2}\" in bisyllable_words:\n",
        "                exercise = {}\n",
        "                exercise[\"main_word\"] = f\"{w1}{w2}\"\n",
        "                exercise[\"target1\"] = w1\n",
        "                exercise[\"target2\"] = w2\n",
        "                exercise[\"response\"] = f\"{w1}{w2}\"\n",
        "                exercise[\"language\"] = \"CA\"\n",
        "                exercise[\"unit\"] = \"SY\"\n",
        "                exercise[\"skill\"] = \"CS\"\n",
        "                exercise[\"game_mechanic\"] = \"J\"\n",
        "                exercise[\"syllables_number\"] = syllable_count\n",
        "                exercise[\"syllable_structure\"] = syllable_type_char\n",
        "                exercise[\"sound\"] = sound\n",
        "\n",
        "                if not find_repeated_exercise(exercise, exercises, keys_to_compare=[\"main_word\"]):\n",
        "                    exercise[\"id\"] = generate_exercise_id()\n",
        "                    exercises.append(exercise)\n",
        "\n",
        "    return exercises"
      ]
    },
    {
      "cell_type": "code",
      "execution_count": null,
      "metadata": {
        "id": "fjE1d3UGyzGG"
      },
      "outputs": [],
      "source": [
        "exercise_id = compute_initial_exercise_id(105_000_000)\n",
        "exercicis_combinar_jutjar = combinar_jutjar()\n",
        "if exercicis_combinar_jutjar:\n",
        "    print(f\"Number of exercises: {len(exercicis_combinar_jutjar)}\")\n",
        "\n",
        "    with open(basepath / f\"combinar_jutjar_{syllable_type}.json\", \"w\", encoding=\"utf-8\") as f:\n",
        "        json.dump(exercicis_combinar_jutjar, f, ensure_ascii=False, indent=2, sort_keys=True)"
      ]
    },
    {
      "cell_type": "markdown",
      "metadata": {
        "id": "8o5IkTteyzGG"
      },
      "source": [
        "### Crear juntar"
      ]
    },
    {
      "cell_type": "code",
      "execution_count": null,
      "metadata": {
        "id": "RteWP2_TyzGG"
      },
      "outputs": [],
      "source": [
        "def combinar_crearjuntar(syllable_position, syllable_count):\n",
        "    exercises = []\n",
        "    for sound in sounds:\n",
        "        for syllable, words in all_words[sound][syllable_position][syllable_count].items():\n",
        "            for word in words:\n",
        "                exercise = {}\n",
        "                exercise[\"main_word\"] = word.replace(\"#\", \"\")\n",
        "                exercise[\"words\"] = word.split(\"#\")\n",
        "                exercise[\"response\"] = word.replace(\"#\", \"\")\n",
        "                exercise[\"language\"] = \"CA\"\n",
        "                exercise[\"unit\"] = \"SY\"\n",
        "                exercise[\"skill\"] = \"CS\"\n",
        "                exercise[\"game_mechanic\"] = \"CJ\"\n",
        "                exercise[\"syllables_number\"] = syllable_count\n",
        "                exercise[\"syllable_structure\"] = syllable_type_char\n",
        "                exercise[\"sound\"] = sound\n",
        "                if not find_repeated_exercise(exercise, exercises, keys_to_compare=[\"main_word\"]):\n",
        "                    exercise[\"id\"] = generate_exercise_id()\n",
        "                    exercises.append(exercise)\n",
        "\n",
        "    return exercises"
      ]
    },
    {
      "cell_type": "code",
      "execution_count": null,
      "metadata": {
        "id": "lmvCHIDGyzGH"
      },
      "outputs": [],
      "source": [
        "exercise_id = compute_initial_exercise_id(106_000_000)\n",
        "for syllable_position in [\"Inici\", \"Meitat\", \"Final\"]:\n",
        "    for syllable_count in range(1, 6):\n",
        "        exercicis_combinar_relacionar = combinar_crearjuntar(syllable_position, syllable_count)\n",
        "        if exercicis_combinar_relacionar:\n",
        "            print(f\"Number of exercises for position {syllable_position} and syllable count {syllable_count}: {len(exercicis_combinar_relacionar)}\")\n",
        "\n",
        "            with open(basepath / f\"combinar_crearjuntar_{syllable_position}_{syllable_type}_{syllable_count}s.json\", \"w\", encoding=\"utf-8\") as f:\n",
        "                json.dump(exercicis_combinar_relacionar, f, ensure_ascii=False, indent=2, sort_keys=True)"
      ]
    },
    {
      "cell_type": "markdown",
      "metadata": {
        "id": "kYEKAGk6yzGH"
      },
      "source": [
        "## Omissió de síl·labes"
      ]
    },
    {
      "cell_type": "markdown",
      "metadata": {
        "id": "TcLrLOA_yzGH"
      },
      "source": [
        "### Jutjar"
      ]
    },
    {
      "cell_type": "code",
      "execution_count": null,
      "metadata": {
        "id": "E819AOG1yzGH"
      },
      "outputs": [],
      "source": [
        "def omissio_jutjar(syllable_position, syllable_count):\n",
        "    exercises = []\n",
        "    for sound in sounds:\n",
        "        for syllable, words in all_words[sound][syllable_position][syllable_count].items():\n",
        "            for word in words:\n",
        "                for i in range(syllable_count):\n",
        "                    word_syllables = word.split(\"#\")\n",
        "                    word_syllables.pop(i)\n",
        "                    new_word = \"\".join(word_syllables)\n",
        "\n",
        "                    if new_word in all_words_set:\n",
        "                        exercise = {}\n",
        "                        exercise[\"main_word\"] = word.replace(\"#\", \"\")\n",
        "                        exercise[\"response\"] = new_word\n",
        "                        exercise[\"language\"] = \"CA\"\n",
        "                        exercise[\"unit\"] = \"SY\"\n",
        "                        exercise[\"skill\"] = \"OS\"\n",
        "                        exercise[\"game_mechanic\"] = \"J\"\n",
        "                        exercise[\"syllables_number\"] = syllable_count\n",
        "                        exercise[\"syllable_structure\"] = syllable_type_char\n",
        "                        exercise[\"sound\"] = sound\n",
        "                        if not find_repeated_exercise(exercise, exercises, keys_to_compare=[\"main_word\", \"response\"]):\n",
        "                            exercise[\"id\"] = generate_exercise_id()\n",
        "                            exercises.append(exercise)\n",
        "\n",
        "    return exercises"
      ]
    },
    {
      "cell_type": "code",
      "execution_count": null,
      "metadata": {
        "id": "WBeaBAIIyzGH"
      },
      "outputs": [],
      "source": [
        "exercise_id = compute_initial_exercise_id(107_000_000)\n",
        "for syllable_position in [\"Inici\", \"Meitat\", \"Final\"]:\n",
        "    for syllable_count in range(1, 6):\n",
        "        exercicis_omissio_jutjar = omissio_jutjar(syllable_position, syllable_count)\n",
        "        if exercicis_omissio_jutjar:\n",
        "            print(f\"Number of exercises for position {syllable_position} and syllable count {syllable_count}: {len(exercicis_omissio_jutjar)}\")\n",
        "\n",
        "            with open(basepath / f\"omissio_jutjar_{syllable_position}_{syllable_type}_{syllable_count}s.json\", \"w\", encoding=\"utf-8\") as f:\n",
        "                json.dump(exercicis_omissio_jutjar, f, ensure_ascii=False, indent=2, sort_keys=True)"
      ]
    },
    {
      "cell_type": "markdown",
      "metadata": {
        "id": "YDCsN8ieyzGI"
      },
      "source": [
        "### Crear"
      ]
    },
    {
      "cell_type": "code",
      "execution_count": null,
      "metadata": {
        "id": "XJXj3wksyzGI"
      },
      "outputs": [],
      "source": [
        "def omissio_crear(syllable_position, syllable_count):\n",
        "    exercises = []\n",
        "    for sound in sounds:\n",
        "        for syllable, words in all_words[sound][syllable_position][syllable_count].items():\n",
        "            for word in words:\n",
        "                for i in range(syllable_count):\n",
        "                    word_syllables = word.split(\"#\")\n",
        "                    word_syllables.pop(i)\n",
        "                    new_word = \"\".join(word_syllables)\n",
        "\n",
        "                    if new_word:\n",
        "                        exercise = {}\n",
        "                        exercise[\"main_word\"] = word.replace(\"#\", \"\")\n",
        "                        exercise[\"response\"] = new_word\n",
        "                        exercise[\"language\"] = \"CA\"\n",
        "                        exercise[\"unit\"] = \"SY\"\n",
        "                        exercise[\"skill\"] = \"OS\"\n",
        "                        exercise[\"game_mechanic\"] = \"C\"\n",
        "                        exercise[\"syllables_number\"] = syllable_count\n",
        "                        exercise[\"syllable_structure\"] = syllable_type_char\n",
        "                        exercise[\"sound\"] = sound\n",
        "                        if not find_repeated_exercise(exercise, exercises, keys_to_compare=[\"main_word\", \"response\"]):\n",
        "                            exercise[\"id\"] = generate_exercise_id()\n",
        "                            exercises.append(exercise)\n",
        "\n",
        "    return exercises"
      ]
    },
    {
      "cell_type": "code",
      "execution_count": null,
      "metadata": {
        "id": "yiB_hrlDyzGI"
      },
      "outputs": [],
      "source": [
        "exercise_id = compute_initial_exercise_id(108_000_000)\n",
        "for syllable_position in [\"Inici\", \"Meitat\", \"Final\"]:\n",
        "    for syllable_count in range(1, 6):\n",
        "        exercicis_omissio_crear = omissio_crear(syllable_position, syllable_count)\n",
        "        if exercicis_omissio_crear:\n",
        "            print(f\"Number of exercises for position {syllable_position} and syllable count {syllable_count}: {len(exercicis_omissio_crear)}\")\n",
        "\n",
        "            with open(basepath / f\"omissio_crear_{syllable_position}_{syllable_type}_{syllable_count}s.json\", \"w\", encoding=\"utf-8\") as f:\n",
        "                json.dump(exercicis_omissio_crear, f, ensure_ascii=False, indent=2, sort_keys=True)"
      ]
    },
    {
      "cell_type": "markdown",
      "metadata": {
        "id": "89E7vDbDyzGI"
      },
      "source": [
        "## Inversió de síl·labes"
      ]
    },
    {
      "cell_type": "markdown",
      "metadata": {
        "id": "vpC5-CD-yzGI"
      },
      "source": [
        "### Jutjar"
      ]
    },
    {
      "cell_type": "code",
      "execution_count": null,
      "metadata": {
        "id": "K3c18mg-yzGI"
      },
      "outputs": [],
      "source": [
        "def inversio_jutjar():\n",
        "    exercises = []\n",
        "    bisyllable_words = []\n",
        "    for sound in sounds:\n",
        "        for syllable, words in all_words[sound][\"Inici\"][2].items():\n",
        "            bisyllable_words += [remove_accents(w) for w in words]\n",
        "\n",
        "    bisyllable_words_normalized = [w.replace(\"#\", \"\") for w in bisyllable_words]\n",
        "\n",
        "    for w in bisyllable_words:\n",
        "        w1, w2 = w.split(\"#\")\n",
        "\n",
        "        if f\"{w2}{w1}\" in bisyllable_words_normalized:\n",
        "            exercise = {}\n",
        "            exercise[\"main_word\"] = w.replace(\"#\", \"\")\n",
        "            exercise[\"response\"] = f\"{w2}{w1}\"\n",
        "            exercise[\"language\"] = \"CA\"\n",
        "            exercise[\"unit\"] = \"SY\"\n",
        "            exercise[\"skill\"] = \"ISP\"\n",
        "            exercise[\"game_mechanic\"] = \"J\"\n",
        "            exercise[\"syllables_number\"] = syllable_count\n",
        "            exercise[\"syllable_structure\"] = syllable_type_char\n",
        "            exercise[\"sound\"] = sound\n",
        "\n",
        "            if not find_repeated_exercise(exercise, exercises, keys_to_compare=[\"main_word\", \"response\"]):\n",
        "                exercise[\"id\"] = generate_exercise_id()\n",
        "                exercises.append(exercise)\n",
        "\n",
        "    return exercises"
      ]
    },
    {
      "cell_type": "code",
      "execution_count": null,
      "metadata": {
        "id": "mC0JgAneyzGI"
      },
      "outputs": [],
      "source": [
        "exercise_id = compute_initial_exercise_id(109_000_000)\n",
        "exercicis_inversio_jutjar = inversio_jutjar()\n",
        "if exercicis_inversio_jutjar:\n",
        "    print(f\"Number of exercises: {len(exercicis_inversio_jutjar)}\")\n",
        "\n",
        "    with open(basepath / f\"inversio_jutjar_{syllable_type}.json\", \"w\", encoding=\"utf-8\") as f:\n",
        "        json.dump(exercicis_inversio_jutjar, f, ensure_ascii=False, indent=2, sort_keys=True)"
      ]
    },
    {
      "cell_type": "markdown",
      "metadata": {
        "id": "aGsx9HwNyzGI"
      },
      "source": [
        "### Crear"
      ]
    },
    {
      "cell_type": "code",
      "execution_count": null,
      "metadata": {
        "id": "EirOy6oPyzGI"
      },
      "outputs": [],
      "source": [
        "def inversio_crear():\n",
        "    exercises = []\n",
        "    bisyllable_words = []\n",
        "    for sound in sounds:\n",
        "        for syllable, words in all_words[sound][\"Inici\"][2].items():\n",
        "            for word in words:\n",
        "                w1, w2 = word.split(\"#\")\n",
        "\n",
        "                exercise = {}\n",
        "                exercise[\"main_word\"] = word.replace(\"#\", \"\")\n",
        "                exercise[\"response\"] = f\"{w2}{w1}\"\n",
        "                exercise[\"language\"] = \"CA\"\n",
        "                exercise[\"unit\"] = \"SY\"\n",
        "                exercise[\"skill\"] = \"ISP\"\n",
        "                exercise[\"game_mechanic\"] = \"C\"\n",
        "                exercise[\"syllables_number\"] = syllable_count\n",
        "                exercise[\"syllable_structure\"] = syllable_type_char\n",
        "                exercise[\"sound\"] = sound\n",
        "\n",
        "\n",
        "                if not find_repeated_exercise(exercise, exercises, keys_to_compare=[\"main_word\", \"response\"]):\n",
        "                    exercise[\"id\"] = generate_exercise_id()\n",
        "                    exercises.append(exercise)\n",
        "\n",
        "    return exercises"
      ]
    },
    {
      "cell_type": "code",
      "execution_count": null,
      "metadata": {
        "id": "CBEpkOMNyzGJ"
      },
      "outputs": [],
      "source": [
        "exercise_id = compute_initial_exercise_id(110_000_000)\n",
        "exercicis_inversio_crear = inversio_crear()\n",
        "if exercicis_inversio_crear:\n",
        "    print(f\"Number of exercises: {len(exercicis_inversio_crear)}\")\n",
        "\n",
        "    with open(basepath / f\"inversio_crear_{syllable_type}.json\", \"w\", encoding=\"utf-8\") as f:\n",
        "        json.dump(exercicis_inversio_crear, f, ensure_ascii=False, indent=2, sort_keys=True)"
      ]
    },
    {
      "cell_type": "code",
      "execution_count": null,
      "metadata": {
        "id": "t4tZ3zQjyzGJ"
      },
      "outputs": [],
      "source": []
    }
  ],
  "metadata": {
    "kernelspec": {
      "display_name": "lab",
      "language": "python",
      "name": "python3"
    },
    "language_info": {
      "codemirror_mode": {
        "name": "ipython",
        "version": 3
      },
      "file_extension": ".py",
      "mimetype": "text/x-python",
      "name": "python",
      "nbconvert_exporter": "python",
      "pygments_lexer": "ipython3",
      "version": "3.11.1"
    },
    "orig_nbformat": 4,
    "colab": {
      "provenance": [],
      "include_colab_link": true
    }
  },
  "nbformat": 4,
  "nbformat_minor": 0
}